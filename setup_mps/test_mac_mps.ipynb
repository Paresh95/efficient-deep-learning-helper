{
 "cells": [
  {
   "cell_type": "code",
   "execution_count": 1,
   "metadata": {},
   "outputs": [
    {
     "name": "stdout",
     "output_type": "stream",
     "text": [
      "PyTorch version: 2.1.0\n",
      "Is MPS (Metal Performance Shader) built? True\n",
      "Is MPS available? True\n",
      "Using device: mps\n"
     ]
    }
   ],
   "source": [
    "import torch\n",
    "import time\n",
    "\n",
    "print(f\"PyTorch version: {torch.__version__}\")\n",
    "\n",
    "# Check PyTorch has access to MPS (Metal Performance Shader, Apple's GPU architecture)\n",
    "print(f\"Is MPS (Metal Performance Shader) built? {torch.backends.mps.is_built()}\")\n",
    "print(f\"Is MPS available? {torch.backends.mps.is_available()}\")\n",
    "\n",
    "# Set the device      \n",
    "device = \"mps\" if torch.backends.mps.is_available() else \"cpu\"\n",
    "print(f\"Using device: {device}\")"
   ]
  },
  {
   "cell_type": "code",
   "execution_count": 2,
   "metadata": {},
   "outputs": [
    {
     "name": "stdout",
     "output_type": "stream",
     "text": [
      "tensor([[0.9382, 0.6857, 0.7464, 0.4601],\n",
      "        [0.5750, 0.0229, 0.7159, 0.2759],\n",
      "        [0.3194, 0.3305, 0.0733, 0.3144]], device='mps:0')\n"
     ]
    },
    {
     "name": "stderr",
     "output_type": "stream",
     "text": [
      "/Users/PareshSharma/miniforge3/envs/gpu-env/lib/python3.10/site-packages/torch/_tensor_str.py:137: UserWarning: MPS: nonzero op is supported natively starting from macOS 13.0. Falling back on CPU. This may have performance implications. (Triggered internally at /Users/runner/work/pytorch/pytorch/pytorch/aten/src/ATen/native/mps/operations/Indexing.mm:283.)\n",
      "  nonzero_finite_vals = torch.masked_select(\n"
     ]
    }
   ],
   "source": [
    "# Set the device\n",
    "device = \"mps\" if torch.backends.mps.is_available() else \"cpu\"\n",
    "x = torch.rand(size=(3, 4)).to(device)\n",
    "print(x)"
   ]
  },
  {
   "cell_type": "code",
   "execution_count": 3,
   "metadata": {},
   "outputs": [
    {
     "name": "stdout",
     "output_type": "stream",
     "text": [
      "CPU Time: 0.1491992950439453 seconds per iteration\n",
      "MPS Time: 0.000712275505065918 seconds per iteration\n",
      "MPS is 209.4685188284519 time faster than CPU for this task\n"
     ]
    }
   ],
   "source": [
    "data_size = 5000 \n",
    "a = torch.randn(data_size, data_size)\n",
    "b = torch.randn(data_size, data_size)\n",
    "\n",
    "repetitions = 10\n",
    "\n",
    "# CPU Benchmark\n",
    "start_time = time.time()\n",
    "\n",
    "for _ in range(repetitions):\n",
    "    c_cpu = torch.mm(a, b)\n",
    "\n",
    "end_time = time.time()\n",
    "cpu_duration = end_time - start_time\n",
    "\n",
    "# MPS (GPU) Benchmark\n",
    "device = torch.device(\"mps\") \n",
    "a_mps = a.to(device)\n",
    "b_mps = b.to(device)\n",
    "\n",
    "start_time = time.time()\n",
    "\n",
    "for _ in range(repetitions):\n",
    "    c_mps = torch.mm(a_mps, b_mps)\n",
    "\n",
    "end_time = time.time()\n",
    "mps_duration = end_time - start_time\n",
    "\n",
    "print(f\"CPU Time: {cpu_duration / repetitions} seconds per iteration\")\n",
    "print(f\"MPS Time: {mps_duration / repetitions} seconds per iteration\")\n",
    "print(f\"MPS is {cpu_duration/mps_duration} time faster than CPU for this task\")\n"
   ]
  },
  {
   "cell_type": "code",
   "execution_count": null,
   "metadata": {},
   "outputs": [],
   "source": []
  }
 ],
 "metadata": {
  "kernelspec": {
   "display_name": "Python 3 (ipykernel)",
   "language": "python",
   "name": "python3"
  },
  "language_info": {
   "codemirror_mode": {
    "name": "ipython",
    "version": 3
   },
   "file_extension": ".py",
   "mimetype": "text/x-python",
   "name": "python",
   "nbconvert_exporter": "python",
   "pygments_lexer": "ipython3",
   "version": "3.10.5"
  }
 },
 "nbformat": 4,
 "nbformat_minor": 4
}
